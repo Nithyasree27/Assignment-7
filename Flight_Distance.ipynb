{
 "cells": [
  {
   "cell_type": "code",
   "execution_count": 1,
   "id": "4da9457f",
   "metadata": {},
   "outputs": [],
   "source": [
    "import pandas as pd\n",
    "from scipy import stats\n",
    "import matplotlib.pyplot as plt\n",
    "import seaborn as sns\n",
    "import statsmodels.api as sm\n",
    "from sklearn.model_selection import train_test_split\n",
    "from sklearn.linear_model import LinearRegression\n",
    "from sklearn.ensemble import GradientBoostingRegressor\n",
    "from sklearn.ensemble import GradientBoostingClassifier\n",
    "from sklearn.ensemble import RandomForestClassifier\n",
    "from sklearn.ensemble import RandomForestRegressor\n",
    "from sklearn.linear_model import LogisticRegression\n",
    "from sklearn.tree import DecisionTreeClassifier\n",
    "from sklearn.tree import DecisionTreeRegressor\n",
    "from sklearn.ensemble import AdaBoostRegressor\n",
    "from sklearn.ensemble import AdaBoostClassifier\n",
    "from sklearn import metrics\n",
    "from sklearn.metrics import mean_squared_error\n"
   ]
  },
  {
   "cell_type": "code",
   "execution_count": 2,
   "id": "b0298105",
   "metadata": {},
   "outputs": [
    {
     "data": {
      "text/html": [
       "<div>\n",
       "<style scoped>\n",
       "    .dataframe tbody tr th:only-of-type {\n",
       "        vertical-align: middle;\n",
       "    }\n",
       "\n",
       "    .dataframe tbody tr th {\n",
       "        vertical-align: top;\n",
       "    }\n",
       "\n",
       "    .dataframe thead th {\n",
       "        text-align: right;\n",
       "    }\n",
       "</style>\n",
       "<table border=\"1\" class=\"dataframe\">\n",
       "  <thead>\n",
       "    <tr style=\"text-align: right;\">\n",
       "      <th></th>\n",
       "      <th>Person</th>\n",
       "      <th>Item_Identifier</th>\n",
       "      <th>Length</th>\n",
       "      <th>Breadth</th>\n",
       "      <th>PaperQuality</th>\n",
       "      <th>Angle</th>\n",
       "      <th>Foldings</th>\n",
       "      <th>Windspeed</th>\n",
       "      <th>Dominanthand</th>\n",
       "      <th>Distance</th>\n",
       "    </tr>\n",
       "  </thead>\n",
       "  <tbody>\n",
       "    <tr>\n",
       "      <th>0</th>\n",
       "      <td>Kevin</td>\n",
       "      <td>Som</td>\n",
       "      <td>29.0</td>\n",
       "      <td>20.0</td>\n",
       "      <td>A</td>\n",
       "      <td>U</td>\n",
       "      <td>8</td>\n",
       "      <td>On</td>\n",
       "      <td>L</td>\n",
       "      <td>5</td>\n",
       "    </tr>\n",
       "    <tr>\n",
       "      <th>1</th>\n",
       "      <td>Kevin</td>\n",
       "      <td>kevin</td>\n",
       "      <td>23.0</td>\n",
       "      <td>16.0</td>\n",
       "      <td>B</td>\n",
       "      <td>U</td>\n",
       "      <td>8</td>\n",
       "      <td>On</td>\n",
       "      <td>L</td>\n",
       "      <td>5</td>\n",
       "    </tr>\n",
       "    <tr>\n",
       "      <th>2</th>\n",
       "      <td>Kevin</td>\n",
       "      <td>RR</td>\n",
       "      <td>NaN</td>\n",
       "      <td>18.0</td>\n",
       "      <td>A</td>\n",
       "      <td>L</td>\n",
       "      <td>10</td>\n",
       "      <td>On</td>\n",
       "      <td>R</td>\n",
       "      <td>6</td>\n",
       "    </tr>\n",
       "    <tr>\n",
       "      <th>3</th>\n",
       "      <td>Priya</td>\n",
       "      <td>Nithya</td>\n",
       "      <td>27.0</td>\n",
       "      <td>20.0</td>\n",
       "      <td>A</td>\n",
       "      <td>U</td>\n",
       "      <td>10</td>\n",
       "      <td>On</td>\n",
       "      <td>R</td>\n",
       "      <td>4</td>\n",
       "    </tr>\n",
       "    <tr>\n",
       "      <th>4</th>\n",
       "      <td>Priya</td>\n",
       "      <td>Priya</td>\n",
       "      <td>29.5</td>\n",
       "      <td>17.5</td>\n",
       "      <td>B</td>\n",
       "      <td>U</td>\n",
       "      <td>5</td>\n",
       "      <td>Off</td>\n",
       "      <td>R</td>\n",
       "      <td>8</td>\n",
       "    </tr>\n",
       "  </tbody>\n",
       "</table>\n",
       "</div>"
      ],
      "text/plain": [
       "  Person Item_Identifier  Length  Breadth PaperQuality Angle  Foldings  \\\n",
       "0  Kevin             Som    29.0     20.0            A     U         8   \n",
       "1  Kevin           kevin    23.0     16.0            B     U         8   \n",
       "2  Kevin              RR     NaN     18.0            A     L        10   \n",
       "3  Priya          Nithya    27.0     20.0            A     U        10   \n",
       "4  Priya           Priya    29.5     17.5            B     U         5   \n",
       "\n",
       "  Windspeed Dominanthand  Distance  \n",
       "0        On            L         5  \n",
       "1        On            L         5  \n",
       "2        On            R         6  \n",
       "3        On            R         4  \n",
       "4       Off            R         8  "
      ]
     },
     "execution_count": 2,
     "metadata": {},
     "output_type": "execute_result"
    }
   ],
   "source": [
    "flight=pd.read_excel(\"E:/imarticus/excels/flight.xlsx\")\n",
    "flight.head(5)"
   ]
  },
  {
   "cell_type": "markdown",
   "id": "1f1b2f9c",
   "metadata": {},
   "source": [
    "<h3> DATA CLEANING AND DATA VISUALISATION</h3>"
   ]
  },
  {
   "cell_type": "code",
   "execution_count": 3,
   "id": "78490d96",
   "metadata": {},
   "outputs": [
    {
     "data": {
      "text/plain": [
       "(88, 10)"
      ]
     },
     "execution_count": 3,
     "metadata": {},
     "output_type": "execute_result"
    }
   ],
   "source": [
    "flight.shape"
   ]
  },
  {
   "cell_type": "code",
   "execution_count": 4,
   "id": "4f1480d7",
   "metadata": {
    "scrolled": true
   },
   "outputs": [
    {
     "data": {
      "text/plain": [
       "Person              0\n",
       "Item_Identifier     0\n",
       "Length             17\n",
       "Breadth             0\n",
       "PaperQuality        8\n",
       "Angle               4\n",
       "Foldings            0\n",
       "Windspeed           0\n",
       "Dominanthand        0\n",
       "Distance            0\n",
       "dtype: int64"
      ]
     },
     "execution_count": 4,
     "metadata": {},
     "output_type": "execute_result"
    }
   ],
   "source": [
    "flight.isnull().sum()"
   ]
  },
  {
   "cell_type": "markdown",
   "id": "e40cd937",
   "metadata": {},
   "source": [
    "<h2>LENGTH</h2>"
   ]
  },
  {
   "cell_type": "code",
   "execution_count": 5,
   "id": "6861e902",
   "metadata": {},
   "outputs": [
    {
     "data": {
      "text/plain": [
       "count    71.000000\n",
       "mean     26.708451\n",
       "std      11.920268\n",
       "min       0.000000\n",
       "25%      22.500000\n",
       "50%      28.500000\n",
       "75%      29.500000\n",
       "max      98.000000\n",
       "Name: Length, dtype: float64"
      ]
     },
     "execution_count": 5,
     "metadata": {},
     "output_type": "execute_result"
    }
   ],
   "source": [
    "flight.Length.describe()"
   ]
  },
  {
   "cell_type": "code",
   "execution_count": 6,
   "id": "528499c5",
   "metadata": {},
   "outputs": [],
   "source": [
    "flight.Length.fillna(flight.Length.mean(),inplace=True)"
   ]
  },
  {
   "cell_type": "code",
   "execution_count": 7,
   "id": "50ac6c26",
   "metadata": {},
   "outputs": [
    {
     "name": "stdout",
     "output_type": "stream",
     "text": [
      "24.5 29.5 5.0 37.0 17.0\n"
     ]
    }
   ],
   "source": [
    "Q1=flight.Length.quantile(0.25)\n",
    "Q3=flight.Length.quantile(0.75)\n",
    "IQR=Q3-Q1\n",
    "UE=Q3+1.5*(IQR)\n",
    "LE=Q1-1.5*(IQR)\n",
    "print(Q1,Q3,IQR,UE,LE)"
   ]
  },
  {
   "cell_type": "code",
   "execution_count": 8,
   "id": "778f1be1",
   "metadata": {},
   "outputs": [
    {
     "name": "stderr",
     "output_type": "stream",
     "text": [
      "C:\\Users\\Jothy Natarajan\\AppData\\Local\\Temp/ipykernel_4724/3988765081.py:1: SettingWithCopyWarning: \n",
      "A value is trying to be set on a copy of a slice from a DataFrame\n",
      "\n",
      "See the caveats in the documentation: https://pandas.pydata.org/pandas-docs/stable/user_guide/indexing.html#returning-a-view-versus-a-copy\n",
      "  flight.Length[flight.Length>UE]=UE\n",
      "C:\\Users\\Jothy Natarajan\\AppData\\Local\\Temp/ipykernel_4724/3988765081.py:2: SettingWithCopyWarning: \n",
      "A value is trying to be set on a copy of a slice from a DataFrame\n",
      "\n",
      "See the caveats in the documentation: https://pandas.pydata.org/pandas-docs/stable/user_guide/indexing.html#returning-a-view-versus-a-copy\n",
      "  flight.Length[flight.Length<LE]=LE\n"
     ]
    }
   ],
   "source": [
    "flight.Length[flight.Length>UE]=UE\n",
    "flight.Length[flight.Length<LE]=LE"
   ]
  },
  {
   "cell_type": "code",
   "execution_count": 9,
   "id": "62a7982a",
   "metadata": {},
   "outputs": [
    {
     "data": {
      "text/plain": [
       "{'whiskers': [<matplotlib.lines.Line2D at 0x145e8beb8b0>,\n",
       "  <matplotlib.lines.Line2D at 0x145e8bebb80>],\n",
       " 'caps': [<matplotlib.lines.Line2D at 0x145e8bebf10>,\n",
       "  <matplotlib.lines.Line2D at 0x145e8bfe2e0>],\n",
       " 'boxes': [<matplotlib.lines.Line2D at 0x145e8beb460>],\n",
       " 'medians': [<matplotlib.lines.Line2D at 0x145e8bfe670>],\n",
       " 'fliers': [<matplotlib.lines.Line2D at 0x145e8bfea00>],\n",
       " 'means': []}"
      ]
     },
     "execution_count": 9,
     "metadata": {},
     "output_type": "execute_result"
    },
    {
     "data": {
      "image/png": "[encoded data removed]",
      "text/plain": [
       "<Figure size 432x288 with 1 Axes>"
      ]
     },
     "metadata": {
      "needs_background": "light"
     },
     "output_type": "display_data"
    }
   ],
   "source": [
    "plt.boxplot(flight.Length)"
   ]
  },
  {
   "cell_type": "code",
   "execution_count": 10,
   "id": "991623d7",
   "metadata": {},
   "outputs": [
    {
     "data": {
      "text/plain": [
       "<AxesSubplot:>"
      ]
     },
     "execution_count": 10,
     "metadata": {},
     "output_type": "execute_result"
    },
    {
     "data": {
      "image/png": "[encoded data removed]",
      "text/plain": [
       "<Figure size 432x288 with 1 Axes>"
      ]
     },
     "metadata": {
      "needs_background": "light"
     },
     "output_type": "display_data"
    }
   ],
   "source": [
    "flight.Length.hist()"
   ]
  },
  {
   "cell_type": "markdown",
   "id": "a0300716",
   "metadata": {},
   "source": [
    "<h3>BREADTH</h3>"
   ]
  },
  {
   "cell_type": "code",
   "execution_count": 11,
   "id": "1192e1ab",
   "metadata": {},
   "outputs": [
    {
     "data": {
      "text/plain": [
       "count    88.000000\n",
       "mean     18.500000\n",
       "std       1.339068\n",
       "min      16.000000\n",
       "25%      17.500000\n",
       "50%      18.500000\n",
       "75%      20.000000\n",
       "max      20.500000\n",
       "Name: Breadth, dtype: float64"
      ]
     },
     "execution_count": 11,
     "metadata": {},
     "output_type": "execute_result"
    }
   ],
   "source": [
    "flight.Breadth.describe()"
   ]
  },
  {
   "cell_type": "code",
   "execution_count": 12,
   "id": "2197d3bf",
   "metadata": {},
   "outputs": [
    {
     "data": {
      "text/plain": [
       "{'whiskers': [<matplotlib.lines.Line2D at 0x145e8d96fa0>,\n",
       "  <matplotlib.lines.Line2D at 0x145e8da6370>],\n",
       " 'caps': [<matplotlib.lines.Line2D at 0x145e8da6700>,\n",
       "  <matplotlib.lines.Line2D at 0x145e8da6a90>],\n",
       " 'boxes': [<matplotlib.lines.Line2D at 0x145e8d96c70>],\n",
       " 'medians': [<matplotlib.lines.Line2D at 0x145e8da6e20>],\n",
       " 'fliers': [<matplotlib.lines.Line2D at 0x145e8db11f0>],\n",
       " 'means': []}"
      ]
     },
     "execution_count": 12,
     "metadata": {},
     "output_type": "execute_result"
    },
    {
     "data": {
      "image/png": "[encoded data removed]",
      "text/plain": [
       "<Figure size 432x288 with 1 Axes>"
      ]
     },
     "metadata": {
      "needs_background": "light"
     },
     "output_type": "display_data"
    }
   ],
   "source": [
    "plt.boxplot(flight.Breadth)"
   ]
  },
  {
   "cell_type": "code",
   "execution_count": 13,
   "id": "69a1fb31",
   "metadata": {},
   "outputs": [
    {
     "data": {
      "text/plain": [
       "<AxesSubplot:>"
      ]
     },
     "execution_count": 13,
     "metadata": {},
     "output_type": "execute_result"
    },
    {
     "data": {
      "image/png": "[encoded data removed]",
      "text/plain": [
       "<Figure size 432x288 with 1 Axes>"
      ]
     },
     "metadata": {
      "needs_background": "light"
     },
     "output_type": "display_data"
    }
   ],
   "source": [
    "flight.Breadth.hist()"
   ]
  },
  {
   "cell_type": "markdown",
   "id": "eab2815f",
   "metadata": {},
   "source": [
    "<h2>PAPER QUALITY</h2>"
   ]
  },
  {
   "cell_type": "code",
   "execution_count": 14,
   "id": "9b0653bf",
   "metadata": {},
   "outputs": [
    {
     "data": {
      "text/plain": [
       "count     80\n",
       "unique     2\n",
       "top        B\n",
       "freq      47\n",
       "Name: PaperQuality, dtype: object"
      ]
     },
     "execution_count": 14,
     "metadata": {},
     "output_type": "execute_result"
    }
   ],
   "source": [
    "flight.PaperQuality.describe()"
   ]
  },
  {
   "cell_type": "code",
   "execution_count": 15,
   "id": "9fe6e4df",
   "metadata": {},
   "outputs": [
    {
     "data": {
      "text/plain": [
       "B    47\n",
       "A    33\n",
       "Name: PaperQuality, dtype: int64"
      ]
     },
     "execution_count": 15,
     "metadata": {},
     "output_type": "execute_result"
    }
   ],
   "source": [
    "flight.PaperQuality.value_counts()"
   ]
  },
  {
   "cell_type": "code",
   "execution_count": 16,
   "id": "31fcdd73",
   "metadata": {},
   "outputs": [],
   "source": [
    "flight.PaperQuality.fillna(\"A\",inplace=True)"
   ]
  },
  {
   "cell_type": "code",
   "execution_count": 17,
   "id": "d0d4a038",
   "metadata": {},
   "outputs": [
    {
     "data": {
      "text/plain": [
       "<AxesSubplot:xlabel='PaperQuality', ylabel='count'>"
      ]
     },
     "execution_count": 17,
     "metadata": {},
     "output_type": "execute_result"
    },
    {
     "data": {
      "image/png": "[encoded data removed]",
      "text/plain": [
       "<Figure size 432x288 with 1 Axes>"
      ]
     },
     "metadata": {
      "needs_background": "light"
     },
     "output_type": "display_data"
    }
   ],
   "source": [
    "sns.countplot(x=\"PaperQuality\",data=flight)"
   ]
  },
  {
   "cell_type": "markdown",
   "id": "76bc98c1",
   "metadata": {},
   "source": [
    "<h2>ANGLE</h2>"
   ]
  },
  {
   "cell_type": "code",
   "execution_count": 18,
   "id": "b781758f",
   "metadata": {},
   "outputs": [
    {
     "data": {
      "text/plain": [
       "count     84\n",
       "unique     2\n",
       "top        U\n",
       "freq      62\n",
       "Name: Angle, dtype: object"
      ]
     },
     "execution_count": 18,
     "metadata": {},
     "output_type": "execute_result"
    }
   ],
   "source": [
    "flight.Angle.describe()"
   ]
  },
  {
   "cell_type": "code",
   "execution_count": 19,
   "id": "c67eb571",
   "metadata": {},
   "outputs": [
    {
     "data": {
      "text/plain": [
       "U    62\n",
       "L    22\n",
       "Name: Angle, dtype: int64"
      ]
     },
     "execution_count": 19,
     "metadata": {},
     "output_type": "execute_result"
    }
   ],
   "source": [
    "flight.Angle.value_counts()"
   ]
  },
  {
   "cell_type": "code",
   "execution_count": 20,
   "id": "a99a85a8",
   "metadata": {},
   "outputs": [],
   "source": [
    "flight.Angle.fillna(\"U\",inplace=True)"
   ]
  },
  {
   "cell_type": "code",
   "execution_count": 21,
   "id": "235df2ee",
   "metadata": {},
   "outputs": [
    {
     "data": {
      "text/plain": [
       "<AxesSubplot:xlabel='Angle', ylabel='count'>"
      ]
     },
     "execution_count": 21,
     "metadata": {},
     "output_type": "execute_result"
    },
    {
     "data": {
      "image/png": "[encoded data removed]",
      "text/plain": [
       "<Figure size 432x288 with 1 Axes>"
      ]
     },
     "metadata": {
      "needs_background": "light"
     },
     "output_type": "display_data"
    }
   ],
   "source": [
    "sns.countplot(x=\"Angle\",data=flight)"
   ]
  },
  {
   "cell_type": "markdown",
   "id": "543ce720",
   "metadata": {},
   "source": [
    "<h2>WINDSPEED</h2>"
   ]
  },
  {
   "cell_type": "code",
   "execution_count": 22,
   "id": "e0ca1bef",
   "metadata": {},
   "outputs": [
    {
     "data": {
      "text/plain": [
       "count     88\n",
       "unique     2\n",
       "top       On\n",
       "freq      44\n",
       "Name: Windspeed, dtype: object"
      ]
     },
     "execution_count": 22,
     "metadata": {},
     "output_type": "execute_result"
    }
   ],
   "source": [
    "flight.Windspeed.describe()"
   ]
  },
  {
   "cell_type": "code",
   "execution_count": 23,
   "id": "80ebdbcd",
   "metadata": {},
   "outputs": [
    {
     "data": {
      "text/plain": [
       "On     44\n",
       "Off    44\n",
       "Name: Windspeed, dtype: int64"
      ]
     },
     "execution_count": 23,
     "metadata": {},
     "output_type": "execute_result"
    }
   ],
   "source": [
    "flight.Windspeed.value_counts()"
   ]
  },
  {
   "cell_type": "code",
   "execution_count": 24,
   "id": "c359019a",
   "metadata": {},
   "outputs": [
    {
     "data": {
      "text/plain": [
       "<AxesSubplot:xlabel='Windspeed', ylabel='count'>"
      ]
     },
     "execution_count": 24,
     "metadata": {},
     "output_type": "execute_result"
    },
    {
     "data": {
      "image/png": "[encoded data removed]",
      "text/plain": [
       "<Figure size 432x288 with 1 Axes>"
      ]
     },
     "metadata": {
      "needs_background": "light"
     },
     "output_type": "display_data"
    }
   ],
   "source": [
    "sns.countplot(x=\"Windspeed\",data=flight)"
   ]
  },
  {
   "cell_type": "markdown",
   "id": "30ef2bc1",
   "metadata": {},
   "source": [
    "<h2>FOLDINGS</h2>"
   ]
  },
  {
   "cell_type": "code",
   "execution_count": 25,
   "id": "5cd6a2c3",
   "metadata": {},
   "outputs": [
    {
     "data": {
      "text/plain": [
       "count    88.000000\n",
       "mean      8.136364\n",
       "std       1.736570\n",
       "min       5.000000\n",
       "25%       8.000000\n",
       "50%       8.000000\n",
       "75%      10.000000\n",
       "max      10.000000\n",
       "Name: Foldings, dtype: float64"
      ]
     },
     "execution_count": 25,
     "metadata": {},
     "output_type": "execute_result"
    }
   ],
   "source": [
    "flight.Foldings.describe()"
   ]
  },
  {
   "cell_type": "code",
   "execution_count": 26,
   "id": "5a1bd483",
   "metadata": {},
   "outputs": [
    {
     "data": {
      "text/plain": [
       "8     42\n",
       "10    30\n",
       "5     16\n",
       "Name: Foldings, dtype: int64"
      ]
     },
     "execution_count": 26,
     "metadata": {},
     "output_type": "execute_result"
    }
   ],
   "source": [
    "flight.Foldings.value_counts()"
   ]
  },
  {
   "cell_type": "code",
   "execution_count": 27,
   "id": "7fd5f812",
   "metadata": {},
   "outputs": [
    {
     "data": {
      "text/plain": [
       "<AxesSubplot:xlabel='Foldings', ylabel='count'>"
      ]
     },
     "execution_count": 27,
     "metadata": {},
     "output_type": "execute_result"
    },
    {
     "data": {
      "image/png": "[encoded data removed]",
      "text/plain": [
       "<Figure size 432x288 with 1 Axes>"
      ]
     },
     "metadata": {
      "needs_background": "light"
     },
     "output_type": "display_data"
    }
   ],
   "source": [
    "sns.countplot(x=\"Foldings\",data=flight)"
   ]
  },
  {
   "cell_type": "markdown",
   "id": "88aaca55",
   "metadata": {},
   "source": [
    "<h2>HYPOTHESIS TESTING</h2>"
   ]
  },
  {
   "cell_type": "code",
   "execution_count": 28,
   "id": "42aed435",
   "metadata": {},
   "outputs": [],
   "source": [
    "flight.Foldings=flight.Foldings.replace(5,\"five\")\n",
    "flight.Foldings=flight.Foldings.replace(8,\"eight\")\n",
    "flight.Foldings=flight.Foldings.replace(10,\"ten\")"
   ]
  },
  {
   "cell_type": "code",
   "execution_count": 29,
   "id": "76c5d83f",
   "metadata": {},
   "outputs": [],
   "source": [
    "f5=flight.Distance[flight.Foldings=='five']\n",
    "f8=flight.Distance[flight.Foldings=='eight']\n",
    "f10=flight.Distance[flight.Foldings=='ten']"
   ]
  },
  {
   "cell_type": "code",
   "execution_count": 30,
   "id": "872ab57e",
   "metadata": {},
   "outputs": [
    {
     "data": {
      "text/plain": [
       "F_onewayResult(statistic=2.1214130696889306, pvalue=0.12616487246048383)"
      ]
     },
     "execution_count": 30,
     "metadata": {},
     "output_type": "execute_result"
    }
   ],
   "source": [
    "stats.f_oneway(f5,f8,f10)"
   ]
  },
  {
   "cell_type": "markdown",
   "id": "faa08b4c",
   "metadata": {},
   "source": [
    "<h2>DOMINANT HAND</h2>"
   ]
  },
  {
   "cell_type": "code",
   "execution_count": 31,
   "id": "be499f49",
   "metadata": {},
   "outputs": [
    {
     "data": {
      "text/plain": [
       "count     88\n",
       "unique     2\n",
       "top        R\n",
       "freq      70\n",
       "Name: Dominanthand, dtype: object"
      ]
     },
     "execution_count": 31,
     "metadata": {},
     "output_type": "execute_result"
    }
   ],
   "source": [
    "flight.Dominanthand.describe()"
   ]
  },
  {
   "cell_type": "code",
   "execution_count": 32,
   "id": "f81e7f43",
   "metadata": {},
   "outputs": [
    {
     "data": {
      "text/plain": [
       "R    70\n",
       "L    18\n",
       "Name: Dominanthand, dtype: int64"
      ]
     },
     "execution_count": 32,
     "metadata": {},
     "output_type": "execute_result"
    }
   ],
   "source": [
    "flight.Dominanthand.value_counts()"
   ]
  },
  {
   "cell_type": "code",
   "execution_count": 33,
   "id": "14c4b570",
   "metadata": {},
   "outputs": [
    {
     "data": {
      "text/plain": [
       "<AxesSubplot:xlabel='Dominanthand', ylabel='count'>"
      ]
     },
     "execution_count": 33,
     "metadata": {},
     "output_type": "execute_result"
    },
    {
     "data": {
      "image/png": "[encoded data removed]",
      "text/plain": [
       "<Figure size 432x288 with 1 Axes>"
      ]
     },
     "metadata": {
      "needs_background": "light"
     },
     "output_type": "display_data"
    }
   ],
   "source": [
    "sns.countplot(x=\"Dominanthand\",data=flight)"
   ]
  },
  {
   "cell_type": "code",
   "execution_count": 34,
   "id": "173160c4",
   "metadata": {},
   "outputs": [],
   "source": [
    "flight.drop('Item_Identifier',axis=1,inplace=True)"
   ]
  },
  {
   "cell_type": "markdown",
   "id": "3c62b59e",
   "metadata": {},
   "source": [
    "<h2>CREATING DUMMY VALUES</h2>"
   ]
  },
  {
   "cell_type": "code",
   "execution_count": 35,
   "id": "89e4ce3e",
   "metadata": {
    "scrolled": true
   },
   "outputs": [
    {
     "data": {
      "text/html": [
       "<div>\n",
       "<style scoped>\n",
       "    .dataframe tbody tr th:only-of-type {\n",
       "        vertical-align: middle;\n",
       "    }\n",
       "\n",
       "    .dataframe tbody tr th {\n",
       "        vertical-align: top;\n",
       "    }\n",
       "\n",
       "    .dataframe thead th {\n",
       "        text-align: right;\n",
       "    }\n",
       "</style>\n",
       "<table border=\"1\" class=\"dataframe\">\n",
       "  <thead>\n",
       "    <tr style=\"text-align: right;\">\n",
       "      <th></th>\n",
       "      <th>Distance</th>\n",
       "      <th>Length</th>\n",
       "      <th>Breadth</th>\n",
       "      <th>PaperQuality_A</th>\n",
       "      <th>PaperQuality_B</th>\n",
       "      <th>Angle_L</th>\n",
       "      <th>Angle_U</th>\n",
       "      <th>Windspeed_Off</th>\n",
       "      <th>Windspeed_On</th>\n",
       "      <th>Foldings_eight</th>\n",
       "      <th>Foldings_five</th>\n",
       "      <th>Foldings_ten</th>\n",
       "      <th>Dominanthand_L</th>\n",
       "      <th>Dominanthand_R</th>\n",
       "    </tr>\n",
       "  </thead>\n",
       "  <tbody>\n",
       "    <tr>\n",
       "      <th>0</th>\n",
       "      <td>5</td>\n",
       "      <td>29.000000</td>\n",
       "      <td>20.0</td>\n",
       "      <td>1</td>\n",
       "      <td>0</td>\n",
       "      <td>0</td>\n",
       "      <td>1</td>\n",
       "      <td>0</td>\n",
       "      <td>1</td>\n",
       "      <td>1</td>\n",
       "      <td>0</td>\n",
       "      <td>0</td>\n",
       "      <td>1</td>\n",
       "      <td>0</td>\n",
       "    </tr>\n",
       "    <tr>\n",
       "      <th>1</th>\n",
       "      <td>5</td>\n",
       "      <td>23.000000</td>\n",
       "      <td>16.0</td>\n",
       "      <td>0</td>\n",
       "      <td>1</td>\n",
       "      <td>0</td>\n",
       "      <td>1</td>\n",
       "      <td>0</td>\n",
       "      <td>1</td>\n",
       "      <td>1</td>\n",
       "      <td>0</td>\n",
       "      <td>0</td>\n",
       "      <td>1</td>\n",
       "      <td>0</td>\n",
       "    </tr>\n",
       "    <tr>\n",
       "      <th>2</th>\n",
       "      <td>6</td>\n",
       "      <td>26.708451</td>\n",
       "      <td>18.0</td>\n",
       "      <td>1</td>\n",
       "      <td>0</td>\n",
       "      <td>1</td>\n",
       "      <td>0</td>\n",
       "      <td>0</td>\n",
       "      <td>1</td>\n",
       "      <td>0</td>\n",
       "      <td>0</td>\n",
       "      <td>1</td>\n",
       "      <td>0</td>\n",
       "      <td>1</td>\n",
       "    </tr>\n",
       "    <tr>\n",
       "      <th>3</th>\n",
       "      <td>4</td>\n",
       "      <td>27.000000</td>\n",
       "      <td>20.0</td>\n",
       "      <td>1</td>\n",
       "      <td>0</td>\n",
       "      <td>0</td>\n",
       "      <td>1</td>\n",
       "      <td>0</td>\n",
       "      <td>1</td>\n",
       "      <td>0</td>\n",
       "      <td>0</td>\n",
       "      <td>1</td>\n",
       "      <td>0</td>\n",
       "      <td>1</td>\n",
       "    </tr>\n",
       "    <tr>\n",
       "      <th>4</th>\n",
       "      <td>8</td>\n",
       "      <td>29.500000</td>\n",
       "      <td>17.5</td>\n",
       "      <td>0</td>\n",
       "      <td>1</td>\n",
       "      <td>0</td>\n",
       "      <td>1</td>\n",
       "      <td>1</td>\n",
       "      <td>0</td>\n",
       "      <td>0</td>\n",
       "      <td>1</td>\n",
       "      <td>0</td>\n",
       "      <td>0</td>\n",
       "      <td>1</td>\n",
       "    </tr>\n",
       "  </tbody>\n",
       "</table>\n",
       "</div>"
      ],
      "text/plain": [
       "   Distance     Length  Breadth  PaperQuality_A  PaperQuality_B  Angle_L  \\\n",
       "0         5  29.000000     20.0               1               0        0   \n",
       "1         5  23.000000     16.0               0               1        0   \n",
       "2         6  26.708451     18.0               1               0        1   \n",
       "3         4  27.000000     20.0               1               0        0   \n",
       "4         8  29.500000     17.5               0               1        0   \n",
       "\n",
       "   Angle_U  Windspeed_Off  Windspeed_On  Foldings_eight  Foldings_five  \\\n",
       "0        1              0             1               1              0   \n",
       "1        1              0             1               1              0   \n",
       "2        0              0             1               0              0   \n",
       "3        1              0             1               0              0   \n",
       "4        1              1             0               0              1   \n",
       "\n",
       "   Foldings_ten  Dominanthand_L  Dominanthand_R  \n",
       "0             0               1               0  \n",
       "1             0               1               0  \n",
       "2             1               0               1  \n",
       "3             1               0               1  \n",
       "4             0               0               1  "
      ]
     },
     "execution_count": 35,
     "metadata": {},
     "output_type": "execute_result"
    }
   ],
   "source": [
    "dummy=pd.get_dummies(flight[[\"PaperQuality\",'Angle',\"Windspeed\",\"Foldings\",\"Dominanthand\"]])\n",
    "dummy= pd.concat([flight.Distance,flight.Length,flight.Breadth,dummy], axis=1)\n",
    "dummy.head(5)"
   ]
  },
  {
   "cell_type": "code",
   "execution_count": 36,
   "id": "a9e1e9eb",
   "metadata": {},
   "outputs": [
    {
     "data": {
      "text/plain": [
       "(88, 14)"
      ]
     },
     "execution_count": 36,
     "metadata": {},
     "output_type": "execute_result"
    }
   ],
   "source": [
    "dummy.shape"
   ]
  },
  {
   "cell_type": "markdown",
   "id": "c794c3fd",
   "metadata": {},
   "source": [
    "<h2>SCALING</h2>"
   ]
  },
  {
   "cell_type": "code",
   "execution_count": 37,
   "id": "ece6a13c",
   "metadata": {},
   "outputs": [],
   "source": [
    "from sklearn.preprocessing import MinMaxScaler\n",
    "scaler = MinMaxScaler().fit(dummy)\n",
    "scaled_data=scaler.transform(dummy)\n",
    "rocket= pd.DataFrame(scaled_data)"
   ]
  },
  {
   "cell_type": "code",
   "execution_count": 38,
   "id": "73bd017c",
   "metadata": {},
   "outputs": [
    {
     "data": {
      "text/html": [
       "<div>\n",
       "<style scoped>\n",
       "    .dataframe tbody tr th:only-of-type {\n",
       "        vertical-align: middle;\n",
       "    }\n",
       "\n",
       "    .dataframe tbody tr th {\n",
       "        vertical-align: top;\n",
       "    }\n",
       "\n",
       "    .dataframe thead th {\n",
       "        text-align: right;\n",
       "    }\n",
       "</style>\n",
       "<table border=\"1\" class=\"dataframe\">\n",
       "  <thead>\n",
       "    <tr style=\"text-align: right;\">\n",
       "      <th></th>\n",
       "      <th>0</th>\n",
       "      <th>1</th>\n",
       "      <th>2</th>\n",
       "      <th>3</th>\n",
       "      <th>4</th>\n",
       "      <th>5</th>\n",
       "      <th>6</th>\n",
       "      <th>7</th>\n",
       "      <th>8</th>\n",
       "      <th>9</th>\n",
       "      <th>10</th>\n",
       "      <th>11</th>\n",
       "      <th>12</th>\n",
       "      <th>13</th>\n",
       "    </tr>\n",
       "  </thead>\n",
       "  <tbody>\n",
       "    <tr>\n",
       "      <th>0</th>\n",
       "      <td>0.4</td>\n",
       "      <td>0.600000</td>\n",
       "      <td>0.888889</td>\n",
       "      <td>1.0</td>\n",
       "      <td>0.0</td>\n",
       "      <td>0.0</td>\n",
       "      <td>1.0</td>\n",
       "      <td>0.0</td>\n",
       "      <td>1.0</td>\n",
       "      <td>1.0</td>\n",
       "      <td>0.0</td>\n",
       "      <td>0.0</td>\n",
       "      <td>1.0</td>\n",
       "      <td>0.0</td>\n",
       "    </tr>\n",
       "    <tr>\n",
       "      <th>1</th>\n",
       "      <td>0.4</td>\n",
       "      <td>0.300000</td>\n",
       "      <td>0.000000</td>\n",
       "      <td>0.0</td>\n",
       "      <td>1.0</td>\n",
       "      <td>0.0</td>\n",
       "      <td>1.0</td>\n",
       "      <td>0.0</td>\n",
       "      <td>1.0</td>\n",
       "      <td>1.0</td>\n",
       "      <td>0.0</td>\n",
       "      <td>0.0</td>\n",
       "      <td>1.0</td>\n",
       "      <td>0.0</td>\n",
       "    </tr>\n",
       "    <tr>\n",
       "      <th>2</th>\n",
       "      <td>0.5</td>\n",
       "      <td>0.485423</td>\n",
       "      <td>0.444444</td>\n",
       "      <td>1.0</td>\n",
       "      <td>0.0</td>\n",
       "      <td>1.0</td>\n",
       "      <td>0.0</td>\n",
       "      <td>0.0</td>\n",
       "      <td>1.0</td>\n",
       "      <td>0.0</td>\n",
       "      <td>0.0</td>\n",
       "      <td>1.0</td>\n",
       "      <td>0.0</td>\n",
       "      <td>1.0</td>\n",
       "    </tr>\n",
       "    <tr>\n",
       "      <th>3</th>\n",
       "      <td>0.3</td>\n",
       "      <td>0.500000</td>\n",
       "      <td>0.888889</td>\n",
       "      <td>1.0</td>\n",
       "      <td>0.0</td>\n",
       "      <td>0.0</td>\n",
       "      <td>1.0</td>\n",
       "      <td>0.0</td>\n",
       "      <td>1.0</td>\n",
       "      <td>0.0</td>\n",
       "      <td>0.0</td>\n",
       "      <td>1.0</td>\n",
       "      <td>0.0</td>\n",
       "      <td>1.0</td>\n",
       "    </tr>\n",
       "    <tr>\n",
       "      <th>4</th>\n",
       "      <td>0.7</td>\n",
       "      <td>0.625000</td>\n",
       "      <td>0.333333</td>\n",
       "      <td>0.0</td>\n",
       "      <td>1.0</td>\n",
       "      <td>0.0</td>\n",
       "      <td>1.0</td>\n",
       "      <td>1.0</td>\n",
       "      <td>0.0</td>\n",
       "      <td>0.0</td>\n",
       "      <td>1.0</td>\n",
       "      <td>0.0</td>\n",
       "      <td>0.0</td>\n",
       "      <td>1.0</td>\n",
       "    </tr>\n",
       "  </tbody>\n",
       "</table>\n",
       "</div>"
      ],
      "text/plain": [
       "    0         1         2    3    4    5    6    7    8    9    10   11   12  \\\n",
       "0  0.4  0.600000  0.888889  1.0  0.0  0.0  1.0  0.0  1.0  1.0  0.0  0.0  1.0   \n",
       "1  0.4  0.300000  0.000000  0.0  1.0  0.0  1.0  0.0  1.0  1.0  0.0  0.0  1.0   \n",
       "2  0.5  0.485423  0.444444  1.0  0.0  1.0  0.0  0.0  1.0  0.0  0.0  1.0  0.0   \n",
       "3  0.3  0.500000  0.888889  1.0  0.0  0.0  1.0  0.0  1.0  0.0  0.0  1.0  0.0   \n",
       "4  0.7  0.625000  0.333333  0.0  1.0  0.0  1.0  1.0  0.0  0.0  1.0  0.0  0.0   \n",
       "\n",
       "    13  \n",
       "0  0.0  \n",
       "1  0.0  \n",
       "2  1.0  \n",
       "3  1.0  \n",
       "4  1.0  "
      ]
     },
     "execution_count": 38,
     "metadata": {},
     "output_type": "execute_result"
    }
   ],
   "source": [
    "rocket.head(5)"
   ]
  },
  {
   "cell_type": "code",
   "execution_count": 39,
   "id": "d0473eb6",
   "metadata": {},
   "outputs": [],
   "source": [
    "rocket.columns=[[\"Distance\",\"Length\",\"Breadth\",\"PaperQuality_A\",\"PaperQuality_B\",\"Angle_L\",\"Angle_U\",\"Windspeed_Off\",\"Windspeed_On\",\"Foldings_eight\",\"Foldings_five\",\"Foldings_ten\",\"Dominanthand_L\",\"Dominanthand_R\"]]"
   ]
  },
  {
   "cell_type": "code",
   "execution_count": 40,
   "id": "60aeae49",
   "metadata": {},
   "outputs": [
    {
     "name": "stderr",
     "output_type": "stream",
     "text": [
      "C:\\Users\\Jothy Natarajan\\anaconda3\\lib\\site-packages\\pandas\\core\\generic.py:4150: PerformanceWarning: dropping on a non-lexsorted multi-index without a level parameter may impact performance.\n",
      "  obj = obj._drop_axis(labels, axis, level=level, errors=errors)\n"
     ]
    }
   ],
   "source": [
    "y=rocket.Distance\n",
    "x=rocket.drop(\"Distance\",axis=1)"
   ]
  },
  {
   "cell_type": "code",
   "execution_count": 41,
   "id": "45d62f50",
   "metadata": {},
   "outputs": [
    {
     "data": {
      "text/plain": [
       "(88, 1)"
      ]
     },
     "execution_count": 41,
     "metadata": {},
     "output_type": "execute_result"
    }
   ],
   "source": [
    "y.shape"
   ]
  },
  {
   "cell_type": "code",
   "execution_count": 42,
   "id": "0ea64c04",
   "metadata": {},
   "outputs": [
    {
     "data": {
      "text/plain": [
       "(88, 13)"
      ]
     },
     "execution_count": 42,
     "metadata": {},
     "output_type": "execute_result"
    }
   ],
   "source": [
    "x.shape"
   ]
  },
  {
   "cell_type": "markdown",
   "id": "14b27a72",
   "metadata": {},
   "source": [
    "<h2> PERFORMING REGRESSION </h2>"
   ]
  },
  {
   "cell_type": "code",
   "execution_count": 43,
   "id": "e8e35c3e",
   "metadata": {},
   "outputs": [
    {
     "name": "stderr",
     "output_type": "stream",
     "text": [
      "C:\\Users\\Jothy Natarajan\\AppData\\Local\\Temp/ipykernel_4724/2132839413.py:13: DataConversionWarning: A column-vector y was passed when a 1d array was expected. Please change the shape of y to (n_samples,), for example using ravel().\n",
      "  model2=RandomForestRegressor(n_estimators=100,max_depth=2).fit(x_train,y_train)\n"
     ]
    },
    {
     "name": "stdout",
     "output_type": "stream",
     "text": [
      "\u001b[1m LINEAR REGRESSION is the best fit model with a RMSE of  0.18071228007084295 \u001b[0m\n"
     ]
    },
    {
     "name": "stderr",
     "output_type": "stream",
     "text": [
      "C:\\Users\\Jothy Natarajan\\anaconda3\\lib\\site-packages\\sklearn\\utils\\validation.py:63: DataConversionWarning: A column-vector y was passed when a 1d array was expected. Please change the shape of y to (n_samples, ), for example using ravel().\n",
      "  return f(*args, **kwargs)\n",
      "C:\\Users\\Jothy Natarajan\\anaconda3\\lib\\site-packages\\sklearn\\utils\\validation.py:63: DataConversionWarning: A column-vector y was passed when a 1d array was expected. Please change the shape of y to (n_samples, ), for example using ravel().\n",
      "  return f(*args, **kwargs)\n"
     ]
    }
   ],
   "source": [
    "def func(x,y):\n",
    "    x_train,x_test,y_train,y_test= train_test_split(x,y,train_size = 0.8, test_size = 0.2,random_state =50)\n",
    "    rmse=[]\n",
    "    #Linear regression\n",
    "    model=LinearRegression().fit(x_train,y_train)\n",
    "    y_predicted=model.predict(x_test)\n",
    "    rmse.append(mean_squared_error(y_test,y_predicted,squared=False))\n",
    "    #DecisionTreeRegresso\n",
    "    model1=DecisionTreeRegressor().fit(x_train,y_train)\n",
    "    y_predicted=model1.predict(x_test)\n",
    "    rmse.append(mean_squared_error(y_test,y_predicted,squared=False))\n",
    "    #RandomForestRegressor\n",
    "    model2=RandomForestRegressor(n_estimators=100,max_depth=2).fit(x_train,y_train)\n",
    "    y_predicted=model2.predict(x_test)\n",
    "    rmse.append(mean_squared_error(y_test,y_predicted,squared=False))\n",
    "    #GradientBoostingRegressor\n",
    "    model3=GradientBoostingRegressor(n_estimators=100,max_depth=2).fit(x_train,y_train)\n",
    "    y_predicted=model3.predict(x_test)\n",
    "    rmse.append(mean_squared_error(y_test,y_predicted,squared=False))\n",
    "    #AdaBoostRegressor\n",
    "    model4 = AdaBoostRegressor().fit(x_train,y_train)\n",
    "    y_predicted=model4.predict(x_test)\n",
    "    rmse.append(mean_squared_error(y_test,y_predicted,squared=False))\n",
    "    return rmse\n",
    "result=[]\n",
    "name=['LINEAR REGRESSION', 'DECISION TREE REGRESSION', 'RANDOM FOREST REGRESSION', 'GRADIENT BOOSTING REGRESSION', 'ADABOOST REGRESSION']\n",
    "result=func(x,y)\n",
    "print('\\033[1m',name[result.index(min(result))],\"is the best fit model with a RMSE of \",min(result),'\\033[0m')"
   ]
  },
  {
   "cell_type": "markdown",
   "id": "14fcc4bd",
   "metadata": {},
   "source": [
    "<h3>Replacing distance as a Discrete data</h3>"
   ]
  },
  {
   "cell_type": "code",
   "execution_count": 44,
   "id": "0e24ef86",
   "metadata": {},
   "outputs": [],
   "source": [
    "Y=flight.Distance\n",
    "Y=Y.replace([ 1, 3, 4, 5],\"<=5\")"
   ]
  },
  {
   "cell_type": "code",
   "execution_count": 45,
   "id": "98d8f784",
   "metadata": {},
   "outputs": [],
   "source": [
    "Y=Y.replace([6,7,8,9,10,11],\">5\")"
   ]
  },
  {
   "cell_type": "code",
   "execution_count": 46,
   "id": "773d974a",
   "metadata": {
    "scrolled": true
   },
   "outputs": [
    {
     "data": {
      "text/plain": [
       ">5     55\n",
       "<=5    33\n",
       "Name: Distance, dtype: int64"
      ]
     },
     "execution_count": 46,
     "metadata": {},
     "output_type": "execute_result"
    }
   ],
   "source": [
    "Y.value_counts()"
   ]
  },
  {
   "cell_type": "markdown",
   "id": "3de8f6fb",
   "metadata": {},
   "source": [
    "<h2> PERFORMING CLASSIFICATION </h2>"
   ]
  },
  {
   "cell_type": "code",
   "execution_count": 47,
   "id": "b3b1834b",
   "metadata": {},
   "outputs": [
    {
     "name": "stdout",
     "output_type": "stream",
     "text": [
      "\u001b[1m LOGISTIC REGRESSION is the best fit model with a score of  0.5555555555555556 \u001b[0m\n"
     ]
    }
   ],
   "source": [
    "def func1(x,Y):\n",
    "    x_train,x_test,Y_train,Y_test= train_test_split(x,Y,train_size = 0.8, test_size = 0.2,random_state =42)\n",
    "    score2=[]\n",
    "    #LogisticRegression\n",
    "    model1=LogisticRegression().fit(x_train,Y_train)\n",
    "    score2.append(model1.score(x_test,Y_test))\n",
    "    Y_predicted=model1.predict(x_test)\n",
    "    #DecisionTreeClassifie\n",
    "    model2=DecisionTreeClassifier().fit(x_train,Y_train)\n",
    "    score2.append(model2.score(x_test,Y_test))\n",
    "    Y_predicted=model2.predict(x_test)\n",
    "    #RandomForestClassifie\n",
    "    model3=RandomForestClassifier(n_estimators=100,max_depth=2).fit(x_train,Y_train)\n",
    "    score2.append(model3.score(x_test,Y_test))\n",
    "    Y_predicted=model3.predict(x_test)\n",
    "    #GradientBoostingClassifie\n",
    "    model4=GradientBoostingClassifier(n_estimators=100,max_depth=2).fit(x_train,Y_train)\n",
    "    score2.append(model4.score(x_test,Y_test))\n",
    "    Y_predicted=model4.predict(x_test)\n",
    "    #AdaBoostClassifier\n",
    "    model5=AdaBoostClassifier().fit(x_train,Y_train)\n",
    "    score2.append(model5.score(x_test,Y_test))\n",
    "    Y_predicted=model5.predict(x_test)\n",
    "    return score2\n",
    "\n",
    "name1=['LOGISTIC REGRESSION', 'DECISION TREE CLASSIFICATION', 'RANDOM FOREST CLASSIFICATION', 'GRADIENT BOOSTING CLASSIFICATION', 'ADABOOST CLASSIFICATION']\n",
    "score1=[]\n",
    "score1=func1(x,Y)\n",
    "print('\\033[1m',name1[score1.index(max(score1))],\"is the best fit model with a score of \",max(score1),'\\033[0m')"
   ]
  },
  {
   "cell_type": "code",
   "execution_count": null,
   "id": "2b2c72d8",
   "metadata": {},
   "outputs": [],
   "source": []
  }
 ],
 "metadata": {
  "kernelspec": {
   "display_name": "Python 3 (ipykernel)",
   "language": "python",
   "name": "python3"
  },
  "language_info": {
   "codemirror_mode": {
    "name": "ipython",
    "version": 3
   },
   "file_extension": ".py",
   "mimetype": "text/x-python",
   "name": "python",
   "nbconvert_exporter": "python",
   "pygments_lexer": "ipython3",
   "version": "3.9.7"
  }
 },
 "nbformat": 4,
 "nbformat_minor": 5
}
